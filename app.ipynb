{
 "cells": [
  {
   "cell_type": "markdown",
   "metadata": {},
   "source": [
    "# Machine Learning Final Project Group 12"
   ]
  },
  {
   "cell_type": "markdown",
   "metadata": {},
   "source": [
    "### Imports"
   ]
  },
  {
   "cell_type": "code",
   "execution_count": 6,
   "metadata": {},
   "outputs": [],
   "source": [
    "import os\n",
    "import numpy as np\n",
    "import pandas as pd\n",
    "import matplotlib.pyplot as plt\n",
    "\n",
    "from helpers import (\n",
    "    load_and_process_nba_data, \n",
    "    load_and_process_nba_height_data,\n",
    "    get_dataset_summary, \n",
    "    get_height_dataset_summary,\n",
    "    print_dataset_summary\n",
    ")\n",
    "from preprocessing import (\n",
    "    clean_data\n",
    ")\n",
    "from knn_classifier import (\n",
    "    knn_classifier\n",
    ")\n",
    "from lasso_classifier import (\n",
    "    lasso_classifier\n",
    ")\n",
    "from xgboost_classifier import (\n",
    "    xgboost_classifier\n",
    ")\n",
    "from random_forest_classifier import random_forest_classifier\n",
    "from gradient_boosting_classifier import gradient_boosting_classifier"
   ]
  },
  {
   "cell_type": "markdown",
   "metadata": {},
   "source": [
    "### Preprocessing"
   ]
  },
  {
   "cell_type": "code",
   "execution_count": 7,
   "metadata": {},
   "outputs": [
    {
     "name": "stdout",
     "output_type": "stream",
     "text": [
      "\n",
      "\n",
      "Processing NBA_Height.csv file...\n",
      "   ID   GAME_ID                   MATCHUP LOCATION  W  FINAL_MARGIN  \\\n",
      "0   1  21400899  MAR 04, 2015 - CHA @ BKN        A  W            24   \n",
      "1   2  21400899  MAR 04, 2015 - CHA @ BKN        A  W            24   \n",
      "2   3  21400899  MAR 04, 2015 - CHA @ BKN        A  W            24   \n",
      "\n",
      "   SHOT_NUMBER  PERIOD          GAME_CLOCK  SHOT_CLOCK  ...   made  \\\n",
      "0            1       1  12/30/1899 1:09:00        10.8  ...   True   \n",
      "1            2       1  12/30/1899 0:14:00         3.4  ...  False   \n",
      "2            3       1  12/30/1899 0:00:00         0.0  ...  False   \n",
      "\n",
      "   time_remaining  quarter  distance_bin defender_distance_bin height_diff  \\\n",
      "0         1:09:00        1       3-10 ft        Tight (0-2 ft)        -5.0   \n",
      "1         0:14:00        1        23+ ft     Wide Open (6+ ft)        -7.0   \n",
      "2         0:00:00        1      10-16 ft        Tight (0-2 ft)        -7.0   \n",
      "\n",
      "   team  opp       shot_type         player  \n",
      "0   NaN  NaN  2PT Field Goal  brian roberts  \n",
      "1   NaN  NaN  3PT Field Goal  brian roberts  \n",
      "2   NaN  NaN  2PT Field Goal  brian roberts  \n",
      "\n",
      "[3 rows x 35 columns]\n",
      "\n",
      " Checking for Null Values.\n",
      "ID                            0\n",
      "GAME_ID                       0\n",
      "MATCHUP                       0\n",
      "LOCATION                      0\n",
      "W                             0\n",
      "FINAL_MARGIN                  0\n",
      "SHOT_NUMBER                   0\n",
      "PERIOD                        0\n",
      "GAME_CLOCK                    0\n",
      "SHOT_CLOCK                    0\n",
      "DRIBBLES                      0\n",
      "TOUCH_TIME                    0\n",
      "SHOT_DIST                     0\n",
      "PTS_TYPE                      0\n",
      "SHOT_RESULT                   0\n",
      "CLOSEST_DEFENDER              0\n",
      "CLOSEST_DEFENDER_PLAYER_ID    0\n",
      "CLOSE_DEF_DIST                0\n",
      "FGM                           0\n",
      "PTS                           0\n",
      "player_name                   0\n",
      "player_id                     0\n",
      "CLOSEST_DEFENDER1             0\n",
      "SHOOTER_height                0\n",
      "DEFENDER_height               0\n",
      "made                          0\n",
      "time_remaining                0\n",
      "quarter                       0\n",
      "distance_bin                  0\n",
      "defender_distance_bin         0\n",
      "height_diff                   0\n",
      "shot_type                     0\n",
      "player                        0\n",
      "dtype: int64\n",
      "(127009, 33)\n",
      "ID                               int64\n",
      "GAME_ID                          int64\n",
      "MATCHUP                         object\n",
      "LOCATION                        object\n",
      "W                               object\n",
      "FINAL_MARGIN                     int64\n",
      "SHOT_NUMBER                      int64\n",
      "PERIOD                           int64\n",
      "GAME_CLOCK                      object\n",
      "SHOT_CLOCK                     float64\n",
      "DRIBBLES                         int64\n",
      "TOUCH_TIME                     float64\n",
      "SHOT_DIST                      float64\n",
      "PTS_TYPE                         int64\n",
      "SHOT_RESULT                     object\n",
      "CLOSEST_DEFENDER                object\n",
      "CLOSEST_DEFENDER_PLAYER_ID       int64\n",
      "CLOSE_DEF_DIST                 float64\n",
      "FGM                               bool\n",
      "PTS                              int64\n",
      "player_name                     object\n",
      "player_id                        int64\n",
      "CLOSEST_DEFENDER1               object\n",
      "SHOOTER_height                 float64\n",
      "DEFENDER_height                float64\n",
      "made                              bool\n",
      "time_remaining                  object\n",
      "quarter                         object\n",
      "distance_bin                  category\n",
      "defender_distance_bin         category\n",
      "height_diff                    float64\n",
      "shot_type                       object\n",
      "player                          object\n",
      "dtype: object\n",
      "(127009, 28)\n"
     ]
    }
   ],
   "source": [
    "height2014_data_path = os.path.join('data')\n",
    "\n",
    "print(\"\\n\\nProcessing NBA_Height.csv file...\")\n",
    "height_df = load_and_process_nba_height_data(height2014_data_path)\n",
    "full_df = height_df\n",
    "\n",
    "X, y = clean_data(full_df)\n",
    "\n",
    "print(X.shape)"
   ]
  },
  {
   "cell_type": "markdown",
   "metadata": {},
   "source": [
    "### KNN"
   ]
  },
  {
   "cell_type": "markdown",
   "metadata": {},
   "source": [
    "#### Load classifier"
   ]
  },
  {
   "cell_type": "code",
   "execution_count": 10,
   "metadata": {},
   "outputs": [],
   "source": [
    "# %load \"./knn_classifier.py\"\n",
    "import pandas as pd\n",
    "from sklearn.neighbors import KNeighborsClassifier\n",
    "from sklearn.model_selection import train_test_split\n",
    "import matplotlib.pyplot as plt\n",
    "from cross_validate import (\n",
    "    grid_search\n",
    ")\n",
    "\n",
    "def knn_classifier(X, y, n_neighbors=20):\n",
    "    X_train, X_test, y_train, y_test = train_test_split(X, y, train_size=.8, test_size=.2, random_state=0)\n",
    "    results = pd.DataFrame()\n",
    "\n",
    "    print('\\nTraining KNN Model\\n')\n",
    "    grid = {'n_neighbors':range(50,1001, 50)}\n",
    "    knn = KNeighborsClassifier()\n",
    "    (knn, results) = grid_search(knn, grid, X_train, y_train)\n",
    "    \n",
    "    print('\\n\\nTraining R2: ', knn.score(X_train, y_train))\n",
    "    print('\\nTesting R2: ', knn.score(X_test, y_test))\n",
    "\n",
    "    # ax1 = results.plot.line(x='neighbors', y='train R2')\n",
    "    # results.plot.line(x='neighbors', y='validation R2', ax=ax1)\n",
    "\n",
    "    knn\n",
    "\n",
    "    plt.show()"
   ]
  },
  {
   "cell_type": "markdown",
   "metadata": {},
   "source": [
    "#### Run Classifier"
   ]
  },
  {
   "cell_type": "code",
   "execution_count": 11,
   "metadata": {},
   "outputs": [
    {
     "name": "stdout",
     "output_type": "stream",
     "text": [
      "\n",
      "Training KNN Model\n",
      "\n",
      " Optimal Parameters: {'n_neighbors': 500}\n",
      " Optimal Valid R2 = 0.6104795929414313\n",
      "\n",
      "\n",
      "Training R2:  0.6140620232857973\n",
      "\n",
      "Testing R2:  0.6122352570663727\n"
     ]
    }
   ],
   "source": [
    "knn_classifier(X, y)"
   ]
  },
  {
   "cell_type": "markdown",
   "metadata": {},
   "source": [
    "### Lasso"
   ]
  },
  {
   "cell_type": "code",
   "execution_count": 13,
   "metadata": {},
   "outputs": [],
   "source": [
    "# %load \"./lasso_classifier.py\"\n",
    "from sklearn.linear_model import Lasso\n",
    "import pandas as pd\n",
    "from sklearn.model_selection import train_test_split\n",
    "from cross_validate import (\n",
    "    grid_search\n",
    ")\n",
    "\n",
    "def lasso_classifier(X, y):\n",
    "    X_train, X_test, y_train, y_test = train_test_split(X, y, train_size=.8, test_size=.2, random_state=0)\n",
    "    print('\\nTraining Lasso Model\\n')\n",
    "    lasso = Lasso()\n",
    "    grid = {'alpha':[0.1,1,10]}\n",
    "    (lasso, _) = grid_search(lasso, grid, X_train, y_train)\n",
    "\n",
    "    coef = pd.Series(lasso.coef_, index=X.columns)\n",
    "    print('\\nLasso Coef Values: ', coef.sort_values())\n",
    "\n",
    "    print('\\n\\nLasso Training R2: ', lasso.score(X_train, y_train))\n",
    "    print('\\nLasso Testing R2: ', lasso.score(X_test, y_test))\n",
    "    "
   ]
  },
  {
   "cell_type": "code",
   "execution_count": 14,
   "metadata": {},
   "outputs": [
    {
     "name": "stdout",
     "output_type": "stream",
     "text": [
      "\n",
      "Training Lasso Model\n",
      "\n",
      " Optimal Parameters: {'alpha': 0.1}\n",
      " Optimal Valid R2 = -5.1306455981133446e-05\n",
      "\n",
      "Lasso Coef Values:  FINAL_MARGIN                               0.0\n",
      "SHOT_NUMBER                               -0.0\n",
      "PERIOD                                    -0.0\n",
      "SHOT_CLOCK                                 0.0\n",
      "DRIBBLES                                  -0.0\n",
      "TOUCH_TIME                                -0.0\n",
      "SHOT_DIST                                 -0.0\n",
      "PTS_TYPE                                  -0.0\n",
      "CLOSEST_DEFENDER_PLAYER_ID                -0.0\n",
      "CLOSE_DEF_DIST                            -0.0\n",
      "player_id                                 -0.0\n",
      "SHOOTER_height                             0.0\n",
      "DEFENDER_height                            0.0\n",
      "height_diff                                0.0\n",
      "W_W                                        0.0\n",
      "quarter_2                                 -0.0\n",
      "quarter_3                                  0.0\n",
      "quarter_4                                 -0.0\n",
      "quarter_5                                 -0.0\n",
      "quarter_6                                 -0.0\n",
      "quarter_7                                 -0.0\n",
      "distance_bin_3-10 ft                       0.0\n",
      "distance_bin_10-16 ft                     -0.0\n",
      "distance_bin_16-23 ft                     -0.0\n",
      "distance_bin_23+ ft                       -0.0\n",
      "defender_distance_bin_Close (2-4 ft)       0.0\n",
      "defender_distance_bin_Open (4-6 ft)       -0.0\n",
      "defender_distance_bin_Wide Open (6+ ft)   -0.0\n",
      "dtype: float64\n",
      "\n",
      "\n",
      "Lasso Training R2:  0.0\n",
      "\n",
      "Lasso Testing R2:  -0.00013474922907641407\n"
     ]
    }
   ],
   "source": [
    "lasso_classifier(X, y.astype(int))"
   ]
  },
  {
   "cell_type": "markdown",
   "metadata": {},
   "source": [
    "### Random Forest Classifier"
   ]
  },
  {
   "cell_type": "code",
   "execution_count": 16,
   "metadata": {},
   "outputs": [],
   "source": [
    "# %load \"./random_forest_classifier.py\"\n",
    "from sklearn.ensemble import RandomForestClassifier\n",
    "import pandas as pd\n",
    "from sklearn.model_selection import train_test_split\n",
    "from cross_validate import (\n",
    "    grid_search\n",
    ")\n",
    "\n",
    "def random_forest_classifier(X, y):\n",
    "    X_train, X_test, y_train, y_test = train_test_split(X, y, train_size=.8, test_size=.2, random_state=0)\n",
    "    results = pd.DataFrame()\n",
    "\n",
    "    print('\\nTraining Random Forest Classifier Model\\n')\n",
    "    grid = {'max_depth':[1,2,3,10,20],'n_estimators':[1000, 2000, 4000]}\n",
    "    rfc = RandomForestClassifier()\n",
    "    (rfc, results) = grid_search(rfc, grid, X_train, y_train)\n",
    "    \n",
    "    print('\\n\\nTraining Accuracy: ', rfc.score(X_train, y_train))\n",
    "    print('\\nTesting Accuracy: ', rfc.score(X_test, y_test))\n",
    "\n",
    "    # ax1 = results.plot.line(x='nehibors', y='train R2')\n",
    "    # results.plot.line(x='nehibors', y='validation R2', ax=ax1)\n",
    "\n",
    "    rfc\n",
    "\n"
   ]
  },
  {
   "cell_type": "code",
   "execution_count": 17,
   "metadata": {},
   "outputs": [
    {
     "name": "stdout",
     "output_type": "stream",
     "text": [
      "\n",
      "Training Random Forest Classifier Model\n",
      "\n",
      " Optimal Parameters: {'max_depth': 10, 'n_estimators': 2000}\n",
      " Optimal Valid R2 = 0.6222504355014911\n",
      "\n",
      "\n",
      "Training Accuracy:  0.641629021622526\n",
      "\n",
      "Testing Accuracy:  0.6235335800330682\n"
     ]
    }
   ],
   "source": [
    "random_forest_classifier(X, y)"
   ]
  },
  {
   "cell_type": "markdown",
   "metadata": {},
   "source": [
    "### Gradient Boosting Tree"
   ]
  },
  {
   "cell_type": "code",
   "execution_count": 21,
   "metadata": {},
   "outputs": [],
   "source": [
    "# %load \"./gradient_boosting_classifier.py\"\n",
    "from sklearn.ensemble import GradientBoostingClassifier\n",
    "from sklearn.model_selection import train_test_split\n",
    "import pandas as pd\n",
    "from cross_validate import grid_search\n",
    "import matplotlib as plt\n",
    "import time\n",
    "\n",
    "\n",
    "def gradient_boosting_classifier(X, y):\n",
    "\n",
    "    start_time = time.time()\n",
    "    print('\\nTraining Gradient Boosting Classifier Model\\n')\n",
    "    grid = {'learning_rate':[0.001,0.01, 0.1, 1],'n_estimators':[1000, 2000, 3000],'max_depth':[5,10,15]}\n",
    "    gbt = GradientBoostingClassifier()\n",
    "\n",
    "    X_train, X_test, y_train, y_test = train_test_split(X, y, train_size=.8, test_size=.2, random_state=0)\n",
    "    results = pd.DataFrame()\n",
    "    (gbtCV, results) = grid_search(gbt, grid, X_train, y_train)\n",
    "    \n",
    "    end_time = time.time()\n",
    "    print(f\"Time taken: {round(end_time-start_time, 1)}\")\n",
    "\n",
    "    print('\\n\\nTraining R2: ', gbtCV.score(X_train, y_train))\n",
    "    print('\\nTesting R2: ', gbtCV.score(X_test, y_test))\n",
    "\n",
    "    # ax1 = results.plot.line(x='n_estimators', y='train R2')\n",
    "    # results.plot.line(x='n_estimators', y='validation R2', ax=ax1)\n",
    "\n",
    "    plt.show()"
   ]
  },
  {
   "cell_type": "code",
   "execution_count": 22,
   "metadata": {},
   "outputs": [
    {
     "name": "stdout",
     "output_type": "stream",
     "text": [
      "\n",
      "Training Gradient Boosting Classifier Model\n",
      "\n"
     ]
    },
    {
     "ename": "KeyboardInterrupt",
     "evalue": "",
     "output_type": "error",
     "traceback": [
      "\u001b[1;31m---------------------------------------------------------------------------\u001b[0m",
      "\u001b[1;31mKeyboardInterrupt\u001b[0m                         Traceback (most recent call last)",
      "Cell \u001b[1;32mIn[22], line 1\u001b[0m\n\u001b[1;32m----> 1\u001b[0m gradient_boosting_classifier(X, y)\n",
      "Cell \u001b[1;32mIn[21], line 19\u001b[0m, in \u001b[0;36mgradient_boosting_classifier\u001b[1;34m(X, y)\u001b[0m\n\u001b[0;32m     17\u001b[0m X_train, X_test, y_train, y_test \u001b[38;5;241m=\u001b[39m train_test_split(X, y, train_size\u001b[38;5;241m=\u001b[39m\u001b[38;5;241m.8\u001b[39m, test_size\u001b[38;5;241m=\u001b[39m\u001b[38;5;241m.2\u001b[39m, random_state\u001b[38;5;241m=\u001b[39m\u001b[38;5;241m0\u001b[39m)\n\u001b[0;32m     18\u001b[0m results \u001b[38;5;241m=\u001b[39m pd\u001b[38;5;241m.\u001b[39mDataFrame()\n\u001b[1;32m---> 19\u001b[0m (gbtCV, results) \u001b[38;5;241m=\u001b[39m grid_search(gbt, grid, X_train, y_train)\n\u001b[0;32m     21\u001b[0m end_time \u001b[38;5;241m=\u001b[39m time\u001b[38;5;241m.\u001b[39mtime()\n\u001b[0;32m     22\u001b[0m \u001b[38;5;28mprint\u001b[39m(\u001b[38;5;124mf\u001b[39m\u001b[38;5;124m\"\u001b[39m\u001b[38;5;124mTime taken: \u001b[39m\u001b[38;5;132;01m{\u001b[39;00m\u001b[38;5;28mround\u001b[39m(end_time\u001b[38;5;241m-\u001b[39mstart_time,\u001b[38;5;250m \u001b[39m\u001b[38;5;241m1\u001b[39m)\u001b[38;5;132;01m}\u001b[39;00m\u001b[38;5;124m\"\u001b[39m)\n",
      "File \u001b[1;32mc:\\Users\\sheffiha\\Documents\\Junior-Spring\\MA415\\MA415Group12\\cross_validate.py:7\u001b[0m, in \u001b[0;36mgrid_search\u001b[1;34m(model, grid, X_train, y_train)\u001b[0m\n\u001b[0;32m      5\u001b[0m results \u001b[38;5;241m=\u001b[39m pd\u001b[38;5;241m.\u001b[39mDataFrame()\n\u001b[0;32m      6\u001b[0m gridCV \u001b[38;5;241m=\u001b[39m GridSearchCV(model,param_grid\u001b[38;5;241m=\u001b[39mgrid,return_train_score\u001b[38;5;241m=\u001b[39m\u001b[38;5;28;01mTrue\u001b[39;00m, cv\u001b[38;5;241m=\u001b[39m\u001b[38;5;241m3\u001b[39m, n_jobs\u001b[38;5;241m=\u001b[39m\u001b[38;5;241m-\u001b[39m\u001b[38;5;241m1\u001b[39m)\n\u001b[1;32m----> 7\u001b[0m gridCV\u001b[38;5;241m.\u001b[39mfit(X_train,y_train)\n\u001b[0;32m      9\u001b[0m \u001b[38;5;28mprint\u001b[39m(\u001b[38;5;124m'\u001b[39m\u001b[38;5;124m Optimal Parameters:\u001b[39m\u001b[38;5;124m'\u001b[39m, gridCV\u001b[38;5;241m.\u001b[39mbest_params_)\n\u001b[0;32m     10\u001b[0m \u001b[38;5;28mprint\u001b[39m(\u001b[38;5;124m'\u001b[39m\u001b[38;5;124m Optimal Valid R2 =\u001b[39m\u001b[38;5;124m'\u001b[39m,gridCV\u001b[38;5;241m.\u001b[39mbest_score_)\n",
      "File \u001b[1;32mc:\\Users\\sheffiha\\AppData\\Local\\anaconda3\\envs\\ml\\Lib\\site-packages\\sklearn\\base.py:1389\u001b[0m, in \u001b[0;36m_fit_context.<locals>.decorator.<locals>.wrapper\u001b[1;34m(estimator, *args, **kwargs)\u001b[0m\n\u001b[0;32m   1382\u001b[0m     estimator\u001b[38;5;241m.\u001b[39m_validate_params()\n\u001b[0;32m   1384\u001b[0m \u001b[38;5;28;01mwith\u001b[39;00m config_context(\n\u001b[0;32m   1385\u001b[0m     skip_parameter_validation\u001b[38;5;241m=\u001b[39m(\n\u001b[0;32m   1386\u001b[0m         prefer_skip_nested_validation \u001b[38;5;129;01mor\u001b[39;00m global_skip_validation\n\u001b[0;32m   1387\u001b[0m     )\n\u001b[0;32m   1388\u001b[0m ):\n\u001b[1;32m-> 1389\u001b[0m     \u001b[38;5;28;01mreturn\u001b[39;00m fit_method(estimator, \u001b[38;5;241m*\u001b[39margs, \u001b[38;5;241m*\u001b[39m\u001b[38;5;241m*\u001b[39mkwargs)\n",
      "File \u001b[1;32mc:\\Users\\sheffiha\\AppData\\Local\\anaconda3\\envs\\ml\\Lib\\site-packages\\sklearn\\model_selection\\_search.py:1024\u001b[0m, in \u001b[0;36mBaseSearchCV.fit\u001b[1;34m(self, X, y, **params)\u001b[0m\n\u001b[0;32m   1018\u001b[0m     results \u001b[38;5;241m=\u001b[39m \u001b[38;5;28mself\u001b[39m\u001b[38;5;241m.\u001b[39m_format_results(\n\u001b[0;32m   1019\u001b[0m         all_candidate_params, n_splits, all_out, all_more_results\n\u001b[0;32m   1020\u001b[0m     )\n\u001b[0;32m   1022\u001b[0m     \u001b[38;5;28;01mreturn\u001b[39;00m results\n\u001b[1;32m-> 1024\u001b[0m \u001b[38;5;28mself\u001b[39m\u001b[38;5;241m.\u001b[39m_run_search(evaluate_candidates)\n\u001b[0;32m   1026\u001b[0m \u001b[38;5;66;03m# multimetric is determined here because in the case of a callable\u001b[39;00m\n\u001b[0;32m   1027\u001b[0m \u001b[38;5;66;03m# self.scoring the return type is only known after calling\u001b[39;00m\n\u001b[0;32m   1028\u001b[0m first_test_score \u001b[38;5;241m=\u001b[39m all_out[\u001b[38;5;241m0\u001b[39m][\u001b[38;5;124m\"\u001b[39m\u001b[38;5;124mtest_scores\u001b[39m\u001b[38;5;124m\"\u001b[39m]\n",
      "File \u001b[1;32mc:\\Users\\sheffiha\\AppData\\Local\\anaconda3\\envs\\ml\\Lib\\site-packages\\sklearn\\model_selection\\_search.py:1571\u001b[0m, in \u001b[0;36mGridSearchCV._run_search\u001b[1;34m(self, evaluate_candidates)\u001b[0m\n\u001b[0;32m   1569\u001b[0m \u001b[38;5;28;01mdef\u001b[39;00m \u001b[38;5;21m_run_search\u001b[39m(\u001b[38;5;28mself\u001b[39m, evaluate_candidates):\n\u001b[0;32m   1570\u001b[0m \u001b[38;5;250m    \u001b[39m\u001b[38;5;124;03m\"\"\"Search all candidates in param_grid\"\"\"\u001b[39;00m\n\u001b[1;32m-> 1571\u001b[0m     evaluate_candidates(ParameterGrid(\u001b[38;5;28mself\u001b[39m\u001b[38;5;241m.\u001b[39mparam_grid))\n",
      "File \u001b[1;32mc:\\Users\\sheffiha\\AppData\\Local\\anaconda3\\envs\\ml\\Lib\\site-packages\\sklearn\\model_selection\\_search.py:970\u001b[0m, in \u001b[0;36mBaseSearchCV.fit.<locals>.evaluate_candidates\u001b[1;34m(candidate_params, cv, more_results)\u001b[0m\n\u001b[0;32m    962\u001b[0m \u001b[38;5;28;01mif\u001b[39;00m \u001b[38;5;28mself\u001b[39m\u001b[38;5;241m.\u001b[39mverbose \u001b[38;5;241m>\u001b[39m \u001b[38;5;241m0\u001b[39m:\n\u001b[0;32m    963\u001b[0m     \u001b[38;5;28mprint\u001b[39m(\n\u001b[0;32m    964\u001b[0m         \u001b[38;5;124m\"\u001b[39m\u001b[38;5;124mFitting \u001b[39m\u001b[38;5;132;01m{0}\u001b[39;00m\u001b[38;5;124m folds for each of \u001b[39m\u001b[38;5;132;01m{1}\u001b[39;00m\u001b[38;5;124m candidates,\u001b[39m\u001b[38;5;124m\"\u001b[39m\n\u001b[0;32m    965\u001b[0m         \u001b[38;5;124m\"\u001b[39m\u001b[38;5;124m totalling \u001b[39m\u001b[38;5;132;01m{2}\u001b[39;00m\u001b[38;5;124m fits\u001b[39m\u001b[38;5;124m\"\u001b[39m\u001b[38;5;241m.\u001b[39mformat(\n\u001b[0;32m    966\u001b[0m             n_splits, n_candidates, n_candidates \u001b[38;5;241m*\u001b[39m n_splits\n\u001b[0;32m    967\u001b[0m         )\n\u001b[0;32m    968\u001b[0m     )\n\u001b[1;32m--> 970\u001b[0m out \u001b[38;5;241m=\u001b[39m parallel(\n\u001b[0;32m    971\u001b[0m     delayed(_fit_and_score)(\n\u001b[0;32m    972\u001b[0m         clone(base_estimator),\n\u001b[0;32m    973\u001b[0m         X,\n\u001b[0;32m    974\u001b[0m         y,\n\u001b[0;32m    975\u001b[0m         train\u001b[38;5;241m=\u001b[39mtrain,\n\u001b[0;32m    976\u001b[0m         test\u001b[38;5;241m=\u001b[39mtest,\n\u001b[0;32m    977\u001b[0m         parameters\u001b[38;5;241m=\u001b[39mparameters,\n\u001b[0;32m    978\u001b[0m         split_progress\u001b[38;5;241m=\u001b[39m(split_idx, n_splits),\n\u001b[0;32m    979\u001b[0m         candidate_progress\u001b[38;5;241m=\u001b[39m(cand_idx, n_candidates),\n\u001b[0;32m    980\u001b[0m         \u001b[38;5;241m*\u001b[39m\u001b[38;5;241m*\u001b[39mfit_and_score_kwargs,\n\u001b[0;32m    981\u001b[0m     )\n\u001b[0;32m    982\u001b[0m     \u001b[38;5;28;01mfor\u001b[39;00m (cand_idx, parameters), (split_idx, (train, test)) \u001b[38;5;129;01min\u001b[39;00m product(\n\u001b[0;32m    983\u001b[0m         \u001b[38;5;28menumerate\u001b[39m(candidate_params),\n\u001b[0;32m    984\u001b[0m         \u001b[38;5;28menumerate\u001b[39m(cv\u001b[38;5;241m.\u001b[39msplit(X, y, \u001b[38;5;241m*\u001b[39m\u001b[38;5;241m*\u001b[39mrouted_params\u001b[38;5;241m.\u001b[39msplitter\u001b[38;5;241m.\u001b[39msplit)),\n\u001b[0;32m    985\u001b[0m     )\n\u001b[0;32m    986\u001b[0m )\n\u001b[0;32m    988\u001b[0m \u001b[38;5;28;01mif\u001b[39;00m \u001b[38;5;28mlen\u001b[39m(out) \u001b[38;5;241m<\u001b[39m \u001b[38;5;241m1\u001b[39m:\n\u001b[0;32m    989\u001b[0m     \u001b[38;5;28;01mraise\u001b[39;00m \u001b[38;5;167;01mValueError\u001b[39;00m(\n\u001b[0;32m    990\u001b[0m         \u001b[38;5;124m\"\u001b[39m\u001b[38;5;124mNo fits were performed. \u001b[39m\u001b[38;5;124m\"\u001b[39m\n\u001b[0;32m    991\u001b[0m         \u001b[38;5;124m\"\u001b[39m\u001b[38;5;124mWas the CV iterator empty? \u001b[39m\u001b[38;5;124m\"\u001b[39m\n\u001b[0;32m    992\u001b[0m         \u001b[38;5;124m\"\u001b[39m\u001b[38;5;124mWere there no candidates?\u001b[39m\u001b[38;5;124m\"\u001b[39m\n\u001b[0;32m    993\u001b[0m     )\n",
      "File \u001b[1;32mc:\\Users\\sheffiha\\AppData\\Local\\anaconda3\\envs\\ml\\Lib\\site-packages\\sklearn\\utils\\parallel.py:77\u001b[0m, in \u001b[0;36mParallel.__call__\u001b[1;34m(self, iterable)\u001b[0m\n\u001b[0;32m     72\u001b[0m config \u001b[38;5;241m=\u001b[39m get_config()\n\u001b[0;32m     73\u001b[0m iterable_with_config \u001b[38;5;241m=\u001b[39m (\n\u001b[0;32m     74\u001b[0m     (_with_config(delayed_func, config), args, kwargs)\n\u001b[0;32m     75\u001b[0m     \u001b[38;5;28;01mfor\u001b[39;00m delayed_func, args, kwargs \u001b[38;5;129;01min\u001b[39;00m iterable\n\u001b[0;32m     76\u001b[0m )\n\u001b[1;32m---> 77\u001b[0m \u001b[38;5;28;01mreturn\u001b[39;00m \u001b[38;5;28msuper\u001b[39m()\u001b[38;5;241m.\u001b[39m\u001b[38;5;21m__call__\u001b[39m(iterable_with_config)\n",
      "File \u001b[1;32mc:\\Users\\sheffiha\\AppData\\Local\\anaconda3\\envs\\ml\\Lib\\site-packages\\joblib\\parallel.py:2007\u001b[0m, in \u001b[0;36mParallel.__call__\u001b[1;34m(self, iterable)\u001b[0m\n\u001b[0;32m   2001\u001b[0m \u001b[38;5;66;03m# The first item from the output is blank, but it makes the interpreter\u001b[39;00m\n\u001b[0;32m   2002\u001b[0m \u001b[38;5;66;03m# progress until it enters the Try/Except block of the generator and\u001b[39;00m\n\u001b[0;32m   2003\u001b[0m \u001b[38;5;66;03m# reaches the first `yield` statement. This starts the asynchronous\u001b[39;00m\n\u001b[0;32m   2004\u001b[0m \u001b[38;5;66;03m# dispatch of the tasks to the workers.\u001b[39;00m\n\u001b[0;32m   2005\u001b[0m \u001b[38;5;28mnext\u001b[39m(output)\n\u001b[1;32m-> 2007\u001b[0m \u001b[38;5;28;01mreturn\u001b[39;00m output \u001b[38;5;28;01mif\u001b[39;00m \u001b[38;5;28mself\u001b[39m\u001b[38;5;241m.\u001b[39mreturn_generator \u001b[38;5;28;01melse\u001b[39;00m \u001b[38;5;28mlist\u001b[39m(output)\n",
      "File \u001b[1;32mc:\\Users\\sheffiha\\AppData\\Local\\anaconda3\\envs\\ml\\Lib\\site-packages\\joblib\\parallel.py:1650\u001b[0m, in \u001b[0;36mParallel._get_outputs\u001b[1;34m(self, iterator, pre_dispatch)\u001b[0m\n\u001b[0;32m   1647\u001b[0m     \u001b[38;5;28;01myield\u001b[39;00m\n\u001b[0;32m   1649\u001b[0m     \u001b[38;5;28;01mwith\u001b[39;00m \u001b[38;5;28mself\u001b[39m\u001b[38;5;241m.\u001b[39m_backend\u001b[38;5;241m.\u001b[39mretrieval_context():\n\u001b[1;32m-> 1650\u001b[0m         \u001b[38;5;28;01myield from\u001b[39;00m \u001b[38;5;28mself\u001b[39m\u001b[38;5;241m.\u001b[39m_retrieve()\n\u001b[0;32m   1652\u001b[0m \u001b[38;5;28;01mexcept\u001b[39;00m \u001b[38;5;167;01mGeneratorExit\u001b[39;00m:\n\u001b[0;32m   1653\u001b[0m     \u001b[38;5;66;03m# The generator has been garbage collected before being fully\u001b[39;00m\n\u001b[0;32m   1654\u001b[0m     \u001b[38;5;66;03m# consumed. This aborts the remaining tasks if possible and warn\u001b[39;00m\n\u001b[0;32m   1655\u001b[0m     \u001b[38;5;66;03m# the user if necessary.\u001b[39;00m\n\u001b[0;32m   1656\u001b[0m     \u001b[38;5;28mself\u001b[39m\u001b[38;5;241m.\u001b[39m_exception \u001b[38;5;241m=\u001b[39m \u001b[38;5;28;01mTrue\u001b[39;00m\n",
      "File \u001b[1;32mc:\\Users\\sheffiha\\AppData\\Local\\anaconda3\\envs\\ml\\Lib\\site-packages\\joblib\\parallel.py:1762\u001b[0m, in \u001b[0;36mParallel._retrieve\u001b[1;34m(self)\u001b[0m\n\u001b[0;32m   1757\u001b[0m \u001b[38;5;66;03m# If the next job is not ready for retrieval yet, we just wait for\u001b[39;00m\n\u001b[0;32m   1758\u001b[0m \u001b[38;5;66;03m# async callbacks to progress.\u001b[39;00m\n\u001b[0;32m   1759\u001b[0m \u001b[38;5;28;01mif\u001b[39;00m ((\u001b[38;5;28mlen\u001b[39m(\u001b[38;5;28mself\u001b[39m\u001b[38;5;241m.\u001b[39m_jobs) \u001b[38;5;241m==\u001b[39m \u001b[38;5;241m0\u001b[39m) \u001b[38;5;129;01mor\u001b[39;00m\n\u001b[0;32m   1760\u001b[0m     (\u001b[38;5;28mself\u001b[39m\u001b[38;5;241m.\u001b[39m_jobs[\u001b[38;5;241m0\u001b[39m]\u001b[38;5;241m.\u001b[39mget_status(\n\u001b[0;32m   1761\u001b[0m         timeout\u001b[38;5;241m=\u001b[39m\u001b[38;5;28mself\u001b[39m\u001b[38;5;241m.\u001b[39mtimeout) \u001b[38;5;241m==\u001b[39m TASK_PENDING)):\n\u001b[1;32m-> 1762\u001b[0m     time\u001b[38;5;241m.\u001b[39msleep(\u001b[38;5;241m0.01\u001b[39m)\n\u001b[0;32m   1763\u001b[0m     \u001b[38;5;28;01mcontinue\u001b[39;00m\n\u001b[0;32m   1765\u001b[0m \u001b[38;5;66;03m# We need to be careful: the job list can be filling up as\u001b[39;00m\n\u001b[0;32m   1766\u001b[0m \u001b[38;5;66;03m# we empty it and Python list are not thread-safe by\u001b[39;00m\n\u001b[0;32m   1767\u001b[0m \u001b[38;5;66;03m# default hence the use of the lock\u001b[39;00m\n",
      "\u001b[1;31mKeyboardInterrupt\u001b[0m: "
     ]
    }
   ],
   "source": [
    "gradient_boosting_classifier(X, y)"
   ]
  },
  {
   "cell_type": "code",
   "execution_count": 10,
   "metadata": {},
   "outputs": [],
   "source": [
    "# %load \"./xgboost_classifier.py\"\n",
    "from xgboost_classifier import XGBClassifier\n",
    "import pandas as pd\n",
    "from sklearn.model_selection import train_test_split\n",
    "from cross_validate import (\n",
    "    grid_search\n",
    ")\n",
    "\n",
    "def xgboost_classifier(X, y):\n",
    "    X_train, X_test, y_train, y_test = train_test_split(X, y, train_size=.8, test_size=.2, random_state=0)\n",
    "    results = pd.DataFrame()\n",
    "\n",
    "    print('\\nTraining XGBoost Classifier Model\\n')\n",
    "    grid = {'max_depth':[20],'n_estimators':[1000], 'learning_rate':[.01, .1]}\n",
    "    xgbc = XGBClassifier()\n",
    "    (xgbc, results) = grid_search(xgbc, grid, X_train, y_train)\n",
    "    \n",
    "    print('\\n\\nTraining Accuracy: ', xgbc.score(X_train, y_train))\n",
    "    print('\\nTesting Accuracy: ', xgbc.score(X_test, y_test))\n",
    "\n",
    "    # ax1 = results.plot.line(x='nehibors', y='train R2')\n",
    "    # results.plot.line(x='nehibors', y='validation R2', ax=ax1)\n",
    "\n",
    "    xgbc\n"
   ]
  },
  {
   "cell_type": "code",
   "execution_count": 11,
   "metadata": {},
   "outputs": [
    {
     "name": "stdout",
     "output_type": "stream",
     "text": [
      "\n",
      "Training XGBoost Classifier Model\n",
      "\n",
      " Optimal Parameters: {'learning_rate': 0.01, 'max_depth': 20, 'n_estimators': 1000}\n",
      " Optimal Valid R2 = 0.6015924099717539\n",
      "\n",
      "\n",
      "Training Accuracy:  0.9998326886927081\n",
      "\n",
      "Testing Accuracy:  0.6038107235650736\n"
     ]
    }
   ],
   "source": [
    "xgboost_classifier(X, y)"
   ]
  },
  {
   "cell_type": "code",
   "execution_count": null,
   "metadata": {},
   "outputs": [],
   "source": []
  }
 ],
 "metadata": {
  "kernelspec": {
   "display_name": "ml",
   "language": "python",
   "name": "python3"
  },
  "language_info": {
   "codemirror_mode": {
    "name": "ipython",
    "version": 3
   },
   "file_extension": ".py",
   "mimetype": "text/x-python",
   "name": "python",
   "nbconvert_exporter": "python",
   "pygments_lexer": "ipython3",
   "version": "3.12.9"
  }
 },
 "nbformat": 4,
 "nbformat_minor": 2
}
